{
 "cells": [
  {
   "cell_type": "code",
   "execution_count": null,
   "id": "fb26c1e3",
   "metadata": {},
   "outputs": [],
   "source": [
    "import cv2 as cv"
   ]
  },
  {
   "cell_type": "code",
   "execution_count": null,
   "id": "41a9c50a",
   "metadata": {},
   "outputs": [
    {
     "data": {
      "text/plain": [
       "True"
      ]
     },
     "execution_count": 3,
     "metadata": {},
     "output_type": "execute_result"
    }
   ],
   "source": [
    "# Reading the image\n",
    "# Replace this image name to your image name\n",
    "image = cv.imread(\"Elonmusk.jpeg\")\n",
    "\n",
    "# Converting the Image into gray_image\n",
    "gray_image = cv.cvtColor(image, cv.COLOR_BGR2GRAY)\n",
    "\n",
    "# Inverting the Imge\n",
    "invert_image = cv.bitwise_not(gray_image)\n",
    "\n",
    "# Blur Image\n",
    "blur_image = cv.GaussianBlur(invert_image, (21,21), 0)\n",
    "\n",
    "# Inverting the Blured Image\n",
    "invert_blur = cv.bitwise_not(blur_image)\n",
    "\n",
    "# Convert Image Into sketch\n",
    "sketch = cv.divide(gray_image, invert_blur, scale=256.0)\n",
    "\n",
    "# Generating the Sketch Image Named as Sketch.png\n",
    "cv.imwrite(\"Sketch4.png\", invert_blur)"
   ]
  },
  {
   "cell_type": "code",
   "execution_count": null,
   "id": "ece5bf6c",
   "metadata": {},
   "outputs": [],
   "source": []
  }
 ],
 "metadata": {
  "kernelspec": {
   "display_name": "Python 3",
   "language": "python",
   "name": "python3"
  },
  "language_info": {
   "codemirror_mode": {
    "name": "ipython",
    "version": 3
   },
   "file_extension": ".py",
   "mimetype": "text/x-python",
   "name": "python",
   "nbconvert_exporter": "python",
   "pygments_lexer": "ipython3",
   "version": "3.12.0"
  }
 },
 "nbformat": 4,
 "nbformat_minor": 5
}
